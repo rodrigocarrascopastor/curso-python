{
  "nbformat": 4,
  "nbformat_minor": 0,
  "metadata": {
    "colab": {
      "provenance": [],
      "include_colab_link": true
    },
    "kernelspec": {
      "name": "python3",
      "display_name": "Python 3"
    },
    "language_info": {
      "name": "python"
    }
  },
  "cells": [
    {
      "cell_type": "markdown",
      "metadata": {
        "id": "view-in-github",
        "colab_type": "text"
      },
      "source": [
        "<a href=\"https://colab.research.google.com/github/rodrigocarrascopastor/curso-python/blob/main/S01_0_Algorithms_with_Python.ipynb\" target=\"_parent\"><img src=\"https://colab.research.google.com/assets/colab-badge.svg\" alt=\"Open In Colab\"/></a>"
      ]
    },
    {
      "cell_type": "markdown",
      "source": [
        "# Verificando entorno de trabajo"
      ],
      "metadata": {
        "id": "lw1MOV8zFX32"
      }
    },
    {
      "cell_type": "code",
      "execution_count": null,
      "metadata": {
        "id": "0ZKS3KPOFRo5"
      },
      "outputs": [],
      "source": [
        "import sys"
      ]
    },
    {
      "cell_type": "code",
      "source": [
        "print(sys.version)"
      ],
      "metadata": {
        "colab": {
          "base_uri": "https://localhost:8080/"
        },
        "id": "omXv4ttjFe0W",
        "outputId": "e4c4a3dc-c980-4226-fa64-03cfdc44c908"
      },
      "execution_count": null,
      "outputs": [
        {
          "output_type": "stream",
          "name": "stdout",
          "text": [
            "3.10.11 (main, Apr  5 2023, 14:15:10) [GCC 9.4.0]\n"
          ]
        }
      ]
    },
    {
      "cell_type": "code",
      "source": [
        "import platform"
      ],
      "metadata": {
        "id": "tpIx3uhKFexh"
      },
      "execution_count": null,
      "outputs": []
    },
    {
      "cell_type": "code",
      "source": [
        "platform.python_version()"
      ],
      "metadata": {
        "colab": {
          "base_uri": "https://localhost:8080/",
          "height": 35
        },
        "id": "MmTN_fNyFetU",
        "outputId": "85c7ca3c-303e-4075-e6d6-c1eb0c1d26c4"
      },
      "execution_count": null,
      "outputs": [
        {
          "output_type": "execute_result",
          "data": {
            "text/plain": [
              "'3.10.11'"
            ],
            "application/vnd.google.colaboratory.intrinsic+json": {
              "type": "string"
            }
          },
          "metadata": {},
          "execution_count": 4
        }
      ]
    },
    {
      "cell_type": "code",
      "source": [
        "# Hello World example\n",
        "#primer comentario con numeral (#)\n",
        "print(\"Hello World\")"
      ],
      "metadata": {
        "id": "ThIqNY_QFeq_"
      },
      "execution_count": null,
      "outputs": []
    },
    {
      "cell_type": "code",
      "source": [
        "\"\"\"\n",
        "segunda fomra de comentar (triple doble comilla al inicio y final)\n",
        "control+enter para ejecutar\n",
        "\"\"\""
      ],
      "metadata": {
        "colab": {
          "base_uri": "https://localhost:8080/",
          "height": 35
        },
        "id": "Ak1cUhWYAFtW",
        "outputId": "a7207086-9fe4-4a98-b47b-60c0b4d7fbe5"
      },
      "execution_count": null,
      "outputs": [
        {
          "output_type": "execute_result",
          "data": {
            "text/plain": [
              "'\\nsegunda fomra de comentar\\ncontrol+enter para ejecutar\\n'"
            ],
            "application/vnd.google.colaboratory.intrinsic+json": {
              "type": "string"
            }
          },
          "metadata": {},
          "execution_count": 5
        }
      ]
    },
    {
      "cell_type": "code",
      "source": [
        "3+7"
      ],
      "metadata": {
        "colab": {
          "base_uri": "https://localhost:8080/"
        },
        "id": "UD5eRNn5FeoZ",
        "outputId": "4237f5ef-34de-402a-c186-e50605dd040d"
      },
      "execution_count": null,
      "outputs": [
        {
          "output_type": "execute_result",
          "data": {
            "text/plain": [
              "10"
            ]
          },
          "metadata": {},
          "execution_count": 7
        }
      ]
    },
    {
      "cell_type": "code",
      "source": [
        "8*4"
      ],
      "metadata": {
        "colab": {
          "base_uri": "https://localhost:8080/"
        },
        "id": "CXmrCmZ7GXCz",
        "outputId": "1c5e6ddb-108e-4e20-bfcd-ce978040d9a2"
      },
      "execution_count": null,
      "outputs": [
        {
          "output_type": "execute_result",
          "data": {
            "text/plain": [
              "32"
            ]
          },
          "metadata": {},
          "execution_count": 6
        }
      ]
    },
    {
      "cell_type": "markdown",
      "source": [
        "## Variables y asignación"
      ],
      "metadata": {
        "id": "H4Ot0fMRGcpK"
      }
    },
    {
      "cell_type": "code",
      "source": [
        "x = 3\n",
        "type(x)"
      ],
      "metadata": {
        "colab": {
          "base_uri": "https://localhost:8080/"
        },
        "id": "HNLIPCTSGcJY",
        "outputId": "25348e08-e155-42f5-ada1-8501dd24ab19"
      },
      "execution_count": null,
      "outputs": [
        {
          "output_type": "execute_result",
          "data": {
            "text/plain": [
              "int"
            ]
          },
          "metadata": {},
          "execution_count": 8
        }
      ]
    },
    {
      "cell_type": "code",
      "source": [
        "y = 2.1\n",
        "type(y)"
      ],
      "metadata": {
        "colab": {
          "base_uri": "https://localhost:8080/"
        },
        "id": "ns3EhHz1GW_8",
        "outputId": "7d81bb8a-1a8e-4958-ca12-e973aad7fab6"
      },
      "execution_count": null,
      "outputs": [
        {
          "output_type": "execute_result",
          "data": {
            "text/plain": [
              "float"
            ]
          },
          "metadata": {},
          "execution_count": 9
        }
      ]
    },
    {
      "cell_type": "code",
      "source": [
        "z = \"test\"\n",
        "type(z)"
      ],
      "metadata": {
        "colab": {
          "base_uri": "https://localhost:8080/"
        },
        "id": "RIj6ZDNNGW9E",
        "outputId": "fefbbd55-8702-436d-b8ee-d7286f8e6899"
      },
      "execution_count": null,
      "outputs": [
        {
          "output_type": "execute_result",
          "data": {
            "text/plain": [
              "str"
            ]
          },
          "metadata": {},
          "execution_count": 9
        }
      ]
    },
    {
      "cell_type": "markdown",
      "source": [
        "## Asignación múltiple"
      ],
      "metadata": {
        "id": "1RbLmTSqHT5E"
      }
    },
    {
      "cell_type": "code",
      "source": [
        "# Asignación múltiple\n",
        "number_example = 2\n",
        "number_example"
      ],
      "metadata": {
        "colab": {
          "base_uri": "https://localhost:8080/"
        },
        "id": "gFppTPVMGtYv",
        "outputId": "8389df4c-31fc-4a3d-bfb0-a519b3dc91f2"
      },
      "execution_count": null,
      "outputs": [
        {
          "output_type": "execute_result",
          "data": {
            "text/plain": [
              "2"
            ]
          },
          "metadata": {},
          "execution_count": 11
        }
      ]
    },
    {
      "cell_type": "code",
      "source": [
        "integer_x, integer_y = 5, 22"
      ],
      "metadata": {
        "id": "bgC8_x3NGtWJ"
      },
      "execution_count": null,
      "outputs": []
    },
    {
      "cell_type": "code",
      "source": [
        "x,y,z=1,2,3"
      ],
      "metadata": {
        "id": "DCytDiJjDIAk"
      },
      "execution_count": null,
      "outputs": []
    },
    {
      "cell_type": "code",
      "source": [
        "print(x)\n",
        "print(y)\n",
        "print(z)"
      ],
      "metadata": {
        "colab": {
          "base_uri": "https://localhost:8080/"
        },
        "id": "2DU7-l26DVXS",
        "outputId": "fa09485f-b53e-4c6e-fe7d-34b4e41c6cd3"
      },
      "execution_count": null,
      "outputs": [
        {
          "output_type": "stream",
          "name": "stdout",
          "text": [
            "1\n",
            "2\n",
            "3\n"
          ]
        }
      ]
    },
    {
      "cell_type": "code",
      "source": [
        "integer_x"
      ],
      "metadata": {
        "colab": {
          "base_uri": "https://localhost:8080/"
        },
        "id": "-wBsUgtxGtT1",
        "outputId": "2f75f1d5-c7b8-4e24-bade-7834c75882bd"
      },
      "execution_count": null,
      "outputs": [
        {
          "output_type": "execute_result",
          "data": {
            "text/plain": [
              "5"
            ]
          },
          "metadata": {},
          "execution_count": 12
        }
      ]
    },
    {
      "cell_type": "code",
      "source": [
        "integer_y"
      ],
      "metadata": {
        "colab": {
          "base_uri": "https://localhost:8080/"
        },
        "id": "vZMoc9XIGW5-",
        "outputId": "b7e60c3d-5dc0-4a79-c0cb-0a589bc605ba"
      },
      "execution_count": null,
      "outputs": [
        {
          "output_type": "execute_result",
          "data": {
            "text/plain": [
              "22"
            ]
          },
          "metadata": {},
          "execution_count": 13
        }
      ]
    },
    {
      "cell_type": "markdown",
      "source": [
        "## Dirección de memoria"
      ],
      "metadata": {
        "id": "OAbC1m6pHWv6"
      }
    },
    {
      "cell_type": "markdown",
      "source": [
        "![image.png](data:image/png;base64,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)"
      ],
      "metadata": {
        "id": "NuOpcG_fHgo-"
      }
    },
    {
      "cell_type": "code",
      "source": [],
      "metadata": {
        "id": "thcuAPbPFYFd"
      },
      "execution_count": null,
      "outputs": []
    },
    {
      "cell_type": "code",
      "source": [
        "x = 7\n",
        "print(id(x))"
      ],
      "metadata": {
        "colab": {
          "base_uri": "https://localhost:8080/"
        },
        "id": "BlyMFGncGW1Q",
        "outputId": "85b9fab6-ae7c-4026-eb17-149b16e27315"
      },
      "execution_count": null,
      "outputs": [
        {
          "output_type": "stream",
          "name": "stdout",
          "text": [
            "140706223800752\n"
          ]
        }
      ]
    },
    {
      "cell_type": "code",
      "source": [
        "x = 7\n",
        "x = x + 1\n",
        "print(id(x))"
      ],
      "metadata": {
        "colab": {
          "base_uri": "https://localhost:8080/"
        },
        "id": "8L-7SAwsGWyq",
        "outputId": "6b66abbc-68c8-4bba-9d9a-85d61daf56b7"
      },
      "execution_count": null,
      "outputs": [
        {
          "output_type": "stream",
          "name": "stdout",
          "text": [
            "140385079427536\n"
          ]
        }
      ]
    },
    {
      "cell_type": "markdown",
      "source": [
        "# Tipos de datos"
      ],
      "metadata": {
        "id": "l3jWTNLfId31"
      }
    },
    {
      "cell_type": "code",
      "source": [
        "# Integer\n",
        "int_number = 6/2\n",
        "int_number"
      ],
      "metadata": {
        "colab": {
          "base_uri": "https://localhost:8080/"
        },
        "id": "3NiZOotGH7O5",
        "outputId": "d5382d83-a74d-4f56-fca3-c443a9893b17"
      },
      "execution_count": null,
      "outputs": [
        {
          "output_type": "execute_result",
          "data": {
            "text/plain": [
              "3.0"
            ]
          },
          "metadata": {},
          "execution_count": 18
        }
      ]
    },
    {
      "cell_type": "code",
      "source": [
        "# Float\n",
        "float_number = 5.2/2\n",
        "float_number"
      ],
      "metadata": {
        "colab": {
          "base_uri": "https://localhost:8080/"
        },
        "id": "MDiP_QiMH7MS",
        "outputId": "4f61a4dd-68f8-4759-c5ea-6b6f64a380e7"
      },
      "execution_count": null,
      "outputs": [
        {
          "output_type": "execute_result",
          "data": {
            "text/plain": [
              "2.6"
            ]
          },
          "metadata": {},
          "execution_count": 19
        }
      ]
    },
    {
      "cell_type": "code",
      "source": [
        "# String\n",
        "string_one = 'First string'\n",
        "string_two = \"Second string\"\n",
        "string_three = \"\"\"Third string\"\"\"\n",
        "print(string_one)\n",
        "print(string_two)\n",
        "print(string_three)"
      ],
      "metadata": {
        "colab": {
          "base_uri": "https://localhost:8080/"
        },
        "id": "b92doAuWH7H2",
        "outputId": "15ac6b6a-c2db-46eb-b6ac-d1c4c2f635e8"
      },
      "execution_count": null,
      "outputs": [
        {
          "output_type": "stream",
          "name": "stdout",
          "text": [
            "First string\n",
            "Second string\n",
            "Third string\n"
          ]
        }
      ]
    },
    {
      "cell_type": "code",
      "source": [
        "# None and boolean\n",
        "num_x = None\n",
        "num_x is None"
      ],
      "metadata": {
        "colab": {
          "base_uri": "https://localhost:8080/"
        },
        "id": "_imw9HtLH7FT",
        "outputId": "8f090351-9c8f-4460-bb14-1e65b9cd2c86"
      },
      "execution_count": null,
      "outputs": [
        {
          "output_type": "execute_result",
          "data": {
            "text/plain": [
              "True"
            ]
          },
          "metadata": {},
          "execution_count": 22
        }
      ]
    },
    {
      "cell_type": "code",
      "source": [
        "num_x = 10\n",
        "num_x is None"
      ],
      "metadata": {
        "colab": {
          "base_uri": "https://localhost:8080/"
        },
        "id": "E64tMaF1JZ11",
        "outputId": "71a20b55-37b4-470f-d030-4b858992e0bf"
      },
      "execution_count": null,
      "outputs": [
        {
          "output_type": "execute_result",
          "data": {
            "text/plain": [
              "False"
            ]
          },
          "metadata": {},
          "execution_count": 23
        }
      ]
    },
    {
      "cell_type": "code",
      "source": [
        "# Type casting\n",
        "float_number = 3.6467\n",
        "float_number"
      ],
      "metadata": {
        "colab": {
          "base_uri": "https://localhost:8080/"
        },
        "id": "4zG6xzPkJZzO",
        "outputId": "c297302c-c96b-4302-c9b2-3c3dd7592c06"
      },
      "execution_count": null,
      "outputs": [
        {
          "output_type": "execute_result",
          "data": {
            "text/plain": [
              "3.6467"
            ]
          },
          "metadata": {},
          "execution_count": 24
        }
      ]
    },
    {
      "cell_type": "markdown",
      "source": [
        "# Ejercicios de programacion"
      ],
      "metadata": {
        "id": "hJawahHmaxuN"
      }
    },
    {
      "cell_type": "markdown",
      "source": [
        "Crea un programa que pida tres notas por consola y luego imprima el promedio"
      ],
      "metadata": {
        "id": "93AjF5u0bZ0F"
      }
    },
    {
      "cell_type": "code",
      "source": [
        "nota1 = int(input(\"Ingrese la nota 1: \"))\n",
        "nota2 = int(input(\"Ingrese la nota 2: \"))\n",
        "nota3 = int(input(\"Ingrese la nota 3: \"))\n",
        "promedio = (nota1+nota2+nota3)/3\n",
        "print(f\"El promedio de las notas es: {promedio}\")"
      ],
      "metadata": {
        "colab": {
          "base_uri": "https://localhost:8080/"
        },
        "id": "Bqt9ocOWazuv",
        "outputId": "b7cfb1cb-85c7-4753-c59b-6fc1a86c842e"
      },
      "execution_count": null,
      "outputs": [
        {
          "output_type": "stream",
          "name": "stdout",
          "text": [
            "Ingrese la nota 1: 10\n",
            "Ingrese la nota 2: 15\n",
            "Ingrese la nota 3: 20\n",
            "El promedio de las notas es: 15.0\n"
          ]
        }
      ]
    },
    {
      "cell_type": "code",
      "source": [
        "velocidad = float(input(\"Ingrese la velocidad: \"))\n",
        "tiempo = int(input(\"Ingrese el tiempo: \"))\n",
        "\n",
        "distancia = (velocidad)*(tiempo)\n",
        "print(f\"La distancia es: {distancia} metros\")"
      ],
      "metadata": {
        "colab": {
          "base_uri": "https://localhost:8080/"
        },
        "id": "mRJUEgeQHRQ6",
        "outputId": "f542d12f-5b88-4b53-8c81-2cc742a67a95"
      },
      "execution_count": null,
      "outputs": [
        {
          "output_type": "stream",
          "name": "stdout",
          "text": [
            "Ingrese la velocidad: 500.25\n",
            "Ingrese el tiempo: 14\n",
            "La distancia es: 7003.5 metros\n"
          ]
        }
      ]
    },
    {
      "cell_type": "markdown",
      "source": [
        "Se desea calcular la distancia recorrida (m) por un móvil que\n",
        "tiene velocidad constante (m/s) durante un tiempo t (s),\n",
        "considerar que es un MRU (Movimiento Rectilíneo\n",
        "Uniforme).\n",
        "\n",
        "$V = \\frac{D}{T}$\n"
      ],
      "metadata": {
        "id": "BJmseMhIdBQT"
      }
    },
    {
      "cell_type": "code",
      "source": [
        "print(\"-------------------------------------------------\")\n",
        "print(\"CALCULO DE DISTANCIA\")\n",
        "print(\"-------------------------------------------------\")\n",
        "\n",
        "#Inputs\n",
        "print(\"Ingrese la velocidad y el tiempo de la unidad móvil\")\n",
        "V = float(input(\"Velocidad: \"))\n",
        "T = int(input(\"Tiempo: \"))\n",
        "\n",
        "#Proceso\n",
        "D = V*T\n",
        "\n",
        "#Output\n",
        "print(D)"
      ],
      "metadata": {
        "colab": {
          "base_uri": "https://localhost:8080/"
        },
        "id": "6cFNclIbcHWB",
        "outputId": "7598cf74-fcaa-425a-f87e-a87b4a6be416"
      },
      "execution_count": null,
      "outputs": [
        {
          "output_type": "stream",
          "name": "stdout",
          "text": [
            "-------------------------------------------------\n",
            "CALCULO DE DISTANCIA\n",
            "-------------------------------------------------\n",
            "Ingrese la velocidad y el tiempo de la unidad móvil\n",
            "Velocidad: 100\n",
            "Tiempo: 20\n",
            "2000.0\n"
          ]
        }
      ]
    },
    {
      "cell_type": "markdown",
      "source": [
        "Se necesita elaborar un algoritmo que solicite el\n",
        "número de respuestas correctas, incorrectas y en blanco,\n",
        "correspondientes a postulantes, y muestre su puntaje final\n",
        "considerando que por cada respuesta correcta tendrá\n",
        "3 puntos, respuestas incorrectas tendrá -1 y respuestas en\n",
        "blanco tendrá 0.\n",
        "\n",
        "|Proceso|Identificador|\n",
        "|-------|-------------|\n",
        "|**Entrada**||\n",
        "|Numero de respuestas correctas|RC|\n",
        "|Numero de respuestas incorrectas|RI|\n",
        "|Numero de respuesta en blanco|RB|\n",
        "|-|-|\n",
        "|**Intermedio**||\n",
        "|Puntaje de RC|PRC|\n",
        "|Puntaje de RI|PRI|\n",
        "|Puntaje en blanco|PRB|\n",
        "|-|-|\n",
        "|**Salida**||\n",
        "|Puntaje Final|PF|"
      ],
      "metadata": {
        "id": "fwn0uz9Femad"
      }
    },
    {
      "cell_type": "code",
      "source": [
        "print(\"-------------------------------------------------------\")\n",
        "print(\"Ejercicio3: PUNTAJE FINAL.\")\n",
        "print(\"-------------------------------------------------------\")\n",
        "#Entradas\n",
        "print(\"Ingrese número de respuestas correctas: \")\n",
        "RC = int( input())\n",
        "print(\"Ingrese número de respuestas incorrectas: \")\n",
        "RI = int( input())\n",
        "print(\"Ingrese número de respuestas en blanco: \")\n",
        "RB = int( input())\n",
        "#Proceso\n",
        "PCR = RC*3\n",
        "PRI = RI*-1\n",
        "PRB = RB*0\n",
        "PF = PCR + PRI + PRB\n",
        "#Salida\n",
        "print(\"El puntaje total es:\", PF)"
      ],
      "metadata": {
        "colab": {
          "base_uri": "https://localhost:8080/"
        },
        "id": "QUgHcHTiemxk",
        "outputId": "7b0f80ef-4478-4259-dea7-a71730dcf9f6"
      },
      "execution_count": null,
      "outputs": [
        {
          "output_type": "stream",
          "name": "stdout",
          "text": [
            "-------------------------------------------------------\n",
            "Ejercicio3: PUNTAJE FINAL.\n",
            "-------------------------------------------------------\n",
            "Ingrese número de respuestas correctas: \n",
            "8\n",
            "Ingrese número de respuestas incorrectas: \n",
            "6\n",
            "Ingrese número de respuestas en blanco: \n",
            "4\n",
            "El puntaje total es: 18\n"
          ]
        }
      ]
    },
    {
      "cell_type": "markdown",
      "source": [
        "Escribir un programa que lea un entero positivo, \n",
        ", introducido por el usuario y después muestre en pantalla la suma de todos los enteros desde 1 hasta \n",
        ". La suma de los \n",
        " primeros enteros positivos puede ser calculada de la siguiente forma:\n",
        "\n",
        "\n",
        "\n",
        "```\n",
        "suma = n*(n+1)/2\n",
        "```\n",
        "\n"
      ],
      "metadata": {
        "id": "Pw6arOoLj8Ie"
      }
    },
    {
      "cell_type": "code",
      "source": [],
      "metadata": {
        "id": "O-5WZ-ppkEyg"
      },
      "execution_count": null,
      "outputs": []
    }
  ]
}